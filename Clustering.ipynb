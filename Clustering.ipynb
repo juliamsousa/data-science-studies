{
 "cells": [
  {
   "cell_type": "markdown",
   "id": "d5981d26-06c1-483f-a4d1-47cc37086c57",
   "metadata": {},
   "source": [
    "## Clustering - Extraindo Padrões dos Dados\n",
    "\n",
    "- Dsenvolvedor: Júlia Eduarda Miranda de Sousa\n",
    "- Descrição: Códigos e anotações desenvolvidos durante o curso da Alura de clusterização.\n",
    "- Data de Criação: 23/08/2025"
   ]
  },
  {
   "cell_type": "markdown",
   "id": "fc4233dc-c12c-41b2-bfa1-4d2c63d736db",
   "metadata": {},
   "source": [
    "### Aprendizado Supervisionado x Não Supervisionado\n",
    "\n",
    "As formas de aprendizado supervisionado e não supervisionado consistem em técninas de inteligência artificial, mas especificamente, de aprendizado de máquina. \n",
    "\n",
    "Com aprendizado supervisionado, o modelo terá dados adicionais de contexto para aprender através do fornecimento dos rótulos da variável de saída. O modelo utiliza os dados dos rótulos para ajustes no aprendizado e minimazação de erros de forma iterativa. Isso permite verificar se a resposta predita pelo modelo está correta. Já os algoritmos de aprendizado não supervisionado aprendem de forma independente, aprendendo a estrutura e padrões inerentes dos dados sem o contexto adicional dos rótulos da variável de saída.\n",
    "\n",
    "As duas abordagens são utilizadas em diferentes situações, o aprendizado supervisionado tem a função de entender a relação dos dados de entrada com os dados de saída e o aprendizado não supervisionado tem a função de identificar novos padrões e relações entre dados brutos e não rotulados.\n",
    "\n",
    "Consulte: <https://cloud.google.com/discover/supervised-vs-unsupervised-learning?hl=pt-BR>\n"
   ]
  },
  {
   "cell_type": "markdown",
   "id": "0a469340-4a1f-459a-8a88-3eb3541bf278",
   "metadata": {},
   "source": [
    "### Instalando os pacotes necessários\n",
    "\n",
    "\n",
    "Criando um kernel para o seu ambiente virtual:\n",
    "\n",
    "- Criação de ambiente virtual\n",
    "\n",
    "      python -m venv <nome_env>\n",
    "\n",
    "- Instale o pacote ipykernel:\n",
    "\n",
    "      python -m pip install ipykernel\n",
    "\n",
    "- Instalando um kernel com o nome <nome_env> (substituir para o nome do seu ambiente)\n",
    "\n",
    "      python -m ipykernel install --user --name .<nome_env>\n",
    "\n",
    "- Execute o notebook dentro do ambiente ativado e em seguida selecione o novo kernel criado\n",
    "\n",
    "      jupyter notebook\n",
    "\n",
    "Referência: <https://stackoverflow.com/questions/55448244/using-virtualenv-on-jupyter-notebook>\n"
   ]
  },
  {
   "cell_type": "code",
   "execution_count": 1,
   "id": "88fe3d1d-a50f-493d-8935-d34f607374d7",
   "metadata": {},
   "outputs": [
    {
     "name": "stdout",
     "output_type": "stream",
     "text": [
      "Collecting pandas\n",
      "  Downloading pandas-2.3.2-cp311-cp311-win_amd64.whl (11.3 MB)\n",
      "     ---------------------------------------- 11.3/11.3 MB 2.0 MB/s eta 0:00:00\n",
      "Collecting numpy>=1.23.2\n",
      "  Downloading numpy-2.3.2-cp311-cp311-win_amd64.whl (13.1 MB)\n",
      "     ---------------------------------------- 13.1/13.1 MB 2.1 MB/s eta 0:00:00\n",
      "Requirement already satisfied: python-dateutil>=2.8.2 in c:\\users\\julia\\documents\\github\\data-science-studies\\.env\\lib\\site-packages (from pandas) (2.9.0.post0)\n",
      "Collecting pytz>=2020.1\n",
      "  Using cached pytz-2025.2-py2.py3-none-any.whl (509 kB)\n",
      "Collecting tzdata>=2022.7\n",
      "  Using cached tzdata-2025.2-py2.py3-none-any.whl (347 kB)\n",
      "Requirement already satisfied: six>=1.5 in c:\\users\\julia\\documents\\github\\data-science-studies\\.env\\lib\\site-packages (from python-dateutil>=2.8.2->pandas) (1.17.0)\n",
      "Installing collected packages: pytz, tzdata, numpy, pandas\n",
      "Successfully installed numpy-2.3.2 pandas-2.3.2 pytz-2025.2 tzdata-2025.2\n"
     ]
    },
    {
     "name": "stderr",
     "output_type": "stream",
     "text": [
      "\n",
      "[notice] A new release of pip available: 22.3 -> 25.2\n",
      "[notice] To update, run: python.exe -m pip install --upgrade pip\n"
     ]
    }
   ],
   "source": [
    "!pip install pandas"
   ]
  },
  {
   "cell_type": "markdown",
   "id": "9ad6ab0d-a57c-4a19-b486-6768aa10cda9",
   "metadata": {},
   "source": [
    "### Atualizando o arquivo de dependências"
   ]
  },
  {
   "cell_type": "code",
   "execution_count": 2,
   "id": "ae014738-f05c-46e3-aa37-1d419cd4c96d",
   "metadata": {},
   "outputs": [],
   "source": [
    "!pip freeze > requirements.txt"
   ]
  },
  {
   "cell_type": "markdown",
   "id": "75d357bf-031f-4505-8d07-ae94bac15120",
   "metadata": {},
   "source": [
    "### Realizando a leitura dos dados"
   ]
  },
  {
   "cell_type": "code",
   "execution_count": null,
   "id": "ee90329c-3281-4590-a86d-e750ec42e593",
   "metadata": {},
   "outputs": [],
   "source": [
    "# Importando a bilioteca pandas para manipulação dos dados\n",
    "import pandas as pd\n",
    "\n",
    "data = pd.read_"
   ]
  }
 ],
 "metadata": {
  "kernelspec": {
   "display_name": "Python 3 (ipykernel)",
   "language": "python",
   "name": "python3"
  },
  "language_info": {
   "codemirror_mode": {
    "name": "ipython",
    "version": 3
   },
   "file_extension": ".py",
   "mimetype": "text/x-python",
   "name": "python",
   "nbconvert_exporter": "python",
   "pygments_lexer": "ipython3",
   "version": "3.11.0"
  }
 },
 "nbformat": 4,
 "nbformat_minor": 5
}
