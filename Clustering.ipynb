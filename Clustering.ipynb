{
 "cells": [
  {
   "cell_type": "markdown",
   "id": "d5981d26-06c1-483f-a4d1-47cc37086c57",
   "metadata": {},
   "source": [
    "## Clustering - Extraindo Padrões dos Dados\n",
    "\n",
    "- Dsenvolvedor: Júlia Eduarda Miranda de Sousa\n",
    "- Descrição: Códigos e anotações desenvolvidos durante o curso da Alura de clusterização.\n",
    "- Data de Criação: 23/08/2025"
   ]
  },
  {
   "cell_type": "markdown",
   "id": "fc4233dc-c12c-41b2-bfa1-4d2c63d736db",
   "metadata": {},
   "source": [
    "### Aprendizado Supervisionado x Não Supervisionado\n",
    "\n",
    "As formas de aprendizado supervisionado e não supervisionado consistem em técninas de inteligência artificial, mas especificamente, de aprendizado de máquina. \n",
    "\n",
    "Com aprendizado supervisionado, o modelo terá dados adicionais de contexto para aprender através do fornecimento dos rótulos da variável de saída. O modelo utiliza os dados dos rótulos para ajustes no aprendizado e minimazação de erros de forma iterativa. Isso permite verificar se a resposta predita pelo modelo está correta. Já os algoritmos de aprendizado não supervisionado aprendem de forma independente, aprendendo a estrutura e padrões inerentes dos dados sem o contexto adicional dos rótulos da variável de saída.\n",
    "\n",
    "As duas abordagens são utilizadas em diferentes situações, o aprendizado supervisionado tem a função de entender a relação dos dados de entrada com os dados de saída e o aprendizado não supervisionado tem a função de identificar novos padrões e relações entre dados brutos e não rotulados.\n",
    "\n",
    "Consulte: <https://cloud.google.com/discover/supervised-vs-unsupervised-learning?hl=pt-BR>\n"
   ]
  }
 ],
 "metadata": {
  "kernelspec": {
   "display_name": ".env",
   "language": "python",
   "name": ".env"
  },
  "language_info": {
   "codemirror_mode": {
    "name": "ipython",
    "version": 3
   },
   "file_extension": ".py",
   "mimetype": "text/x-python",
   "name": "python",
   "nbconvert_exporter": "python",
   "pygments_lexer": "ipython3",
   "version": "3.11.0"
  }
 },
 "nbformat": 4,
 "nbformat_minor": 5
}
